{
  "nbformat": 4,
  "nbformat_minor": 0,
  "metadata": {
    "colab": {
      "provenance": [],
      "collapsed_sections": []
    },
    "kernelspec": {
      "name": "python3",
      "display_name": "Python 3"
    },
    "language_info": {
      "name": "python"
    },
    "widgets": {
      "application/vnd.jupyter.widget-state+json": {
        "2ab93b38cafd4d01aebda8dd2219a769": {
          "model_module": "@jupyter-widgets/controls",
          "model_name": "HBoxModel",
          "model_module_version": "1.5.0",
          "state": {
            "_dom_classes": [],
            "_model_module": "@jupyter-widgets/controls",
            "_model_module_version": "1.5.0",
            "_model_name": "HBoxModel",
            "_view_count": null,
            "_view_module": "@jupyter-widgets/controls",
            "_view_module_version": "1.5.0",
            "_view_name": "HBoxView",
            "box_style": "",
            "children": [
              "IPY_MODEL_55e2f7851efe4283853372658adbcf17",
              "IPY_MODEL_b002f351b4f84d129c165ec903ba1fde",
              "IPY_MODEL_3f9bf611db654ed9aa12e94026d491e5"
            ],
            "layout": "IPY_MODEL_88a3b29dcb8f4aebbc2f92b972c12026"
          }
        },
        "55e2f7851efe4283853372658adbcf17": {
          "model_module": "@jupyter-widgets/controls",
          "model_name": "HTMLModel",
          "model_module_version": "1.5.0",
          "state": {
            "_dom_classes": [],
            "_model_module": "@jupyter-widgets/controls",
            "_model_module_version": "1.5.0",
            "_model_name": "HTMLModel",
            "_view_count": null,
            "_view_module": "@jupyter-widgets/controls",
            "_view_module_version": "1.5.0",
            "_view_name": "HTMLView",
            "description": "",
            "description_tooltip": null,
            "layout": "IPY_MODEL_e6f94c9e68c7463d8d35510f825a09d1",
            "placeholder": "​",
            "style": "IPY_MODEL_d2d4efafb98e40869afeb39e7ed1df7d",
            "value": "100%"
          }
        },
        "b002f351b4f84d129c165ec903ba1fde": {
          "model_module": "@jupyter-widgets/controls",
          "model_name": "FloatProgressModel",
          "model_module_version": "1.5.0",
          "state": {
            "_dom_classes": [],
            "_model_module": "@jupyter-widgets/controls",
            "_model_module_version": "1.5.0",
            "_model_name": "FloatProgressModel",
            "_view_count": null,
            "_view_module": "@jupyter-widgets/controls",
            "_view_module_version": "1.5.0",
            "_view_name": "ProgressView",
            "bar_style": "success",
            "description": "",
            "description_tooltip": null,
            "layout": "IPY_MODEL_c6a0d0aea60349478ee2752e41eb6df7",
            "max": 54938180,
            "min": 0,
            "orientation": "horizontal",
            "style": "IPY_MODEL_2392c5defca745d887fdc4655f61d73a",
            "value": 54938180
          }
        },
        "3f9bf611db654ed9aa12e94026d491e5": {
          "model_module": "@jupyter-widgets/controls",
          "model_name": "HTMLModel",
          "model_module_version": "1.5.0",
          "state": {
            "_dom_classes": [],
            "_model_module": "@jupyter-widgets/controls",
            "_model_module_version": "1.5.0",
            "_model_name": "HTMLModel",
            "_view_count": null,
            "_view_module": "@jupyter-widgets/controls",
            "_view_module_version": "1.5.0",
            "_view_name": "HTMLView",
            "description": "",
            "description_tooltip": null,
            "layout": "IPY_MODEL_c5ccae0ab80f4dfb8670ad2161d69a8a",
            "placeholder": "​",
            "style": "IPY_MODEL_58cfd37a2e0049a287693db0e9be5d73",
            "value": " 54938180/54938180 [00:02&lt;00:00, 27335319.98it/s]"
          }
        },
        "88a3b29dcb8f4aebbc2f92b972c12026": {
          "model_module": "@jupyter-widgets/base",
          "model_name": "LayoutModel",
          "model_module_version": "1.2.0",
          "state": {
            "_model_module": "@jupyter-widgets/base",
            "_model_module_version": "1.2.0",
            "_model_name": "LayoutModel",
            "_view_count": null,
            "_view_module": "@jupyter-widgets/base",
            "_view_module_version": "1.2.0",
            "_view_name": "LayoutView",
            "align_content": null,
            "align_items": null,
            "align_self": null,
            "border": null,
            "bottom": null,
            "display": null,
            "flex": null,
            "flex_flow": null,
            "grid_area": null,
            "grid_auto_columns": null,
            "grid_auto_flow": null,
            "grid_auto_rows": null,
            "grid_column": null,
            "grid_gap": null,
            "grid_row": null,
            "grid_template_areas": null,
            "grid_template_columns": null,
            "grid_template_rows": null,
            "height": null,
            "justify_content": null,
            "justify_items": null,
            "left": null,
            "margin": null,
            "max_height": null,
            "max_width": null,
            "min_height": null,
            "min_width": null,
            "object_fit": null,
            "object_position": null,
            "order": null,
            "overflow": null,
            "overflow_x": null,
            "overflow_y": null,
            "padding": null,
            "right": null,
            "top": null,
            "visibility": null,
            "width": null
          }
        },
        "e6f94c9e68c7463d8d35510f825a09d1": {
          "model_module": "@jupyter-widgets/base",
          "model_name": "LayoutModel",
          "model_module_version": "1.2.0",
          "state": {
            "_model_module": "@jupyter-widgets/base",
            "_model_module_version": "1.2.0",
            "_model_name": "LayoutModel",
            "_view_count": null,
            "_view_module": "@jupyter-widgets/base",
            "_view_module_version": "1.2.0",
            "_view_name": "LayoutView",
            "align_content": null,
            "align_items": null,
            "align_self": null,
            "border": null,
            "bottom": null,
            "display": null,
            "flex": null,
            "flex_flow": null,
            "grid_area": null,
            "grid_auto_columns": null,
            "grid_auto_flow": null,
            "grid_auto_rows": null,
            "grid_column": null,
            "grid_gap": null,
            "grid_row": null,
            "grid_template_areas": null,
            "grid_template_columns": null,
            "grid_template_rows": null,
            "height": null,
            "justify_content": null,
            "justify_items": null,
            "left": null,
            "margin": null,
            "max_height": null,
            "max_width": null,
            "min_height": null,
            "min_width": null,
            "object_fit": null,
            "object_position": null,
            "order": null,
            "overflow": null,
            "overflow_x": null,
            "overflow_y": null,
            "padding": null,
            "right": null,
            "top": null,
            "visibility": null,
            "width": null
          }
        },
        "d2d4efafb98e40869afeb39e7ed1df7d": {
          "model_module": "@jupyter-widgets/controls",
          "model_name": "DescriptionStyleModel",
          "model_module_version": "1.5.0",
          "state": {
            "_model_module": "@jupyter-widgets/controls",
            "_model_module_version": "1.5.0",
            "_model_name": "DescriptionStyleModel",
            "_view_count": null,
            "_view_module": "@jupyter-widgets/base",
            "_view_module_version": "1.2.0",
            "_view_name": "StyleView",
            "description_width": ""
          }
        },
        "c6a0d0aea60349478ee2752e41eb6df7": {
          "model_module": "@jupyter-widgets/base",
          "model_name": "LayoutModel",
          "model_module_version": "1.2.0",
          "state": {
            "_model_module": "@jupyter-widgets/base",
            "_model_module_version": "1.2.0",
            "_model_name": "LayoutModel",
            "_view_count": null,
            "_view_module": "@jupyter-widgets/base",
            "_view_module_version": "1.2.0",
            "_view_name": "LayoutView",
            "align_content": null,
            "align_items": null,
            "align_self": null,
            "border": null,
            "bottom": null,
            "display": null,
            "flex": null,
            "flex_flow": null,
            "grid_area": null,
            "grid_auto_columns": null,
            "grid_auto_flow": null,
            "grid_auto_rows": null,
            "grid_column": null,
            "grid_gap": null,
            "grid_row": null,
            "grid_template_areas": null,
            "grid_template_columns": null,
            "grid_template_rows": null,
            "height": null,
            "justify_content": null,
            "justify_items": null,
            "left": null,
            "margin": null,
            "max_height": null,
            "max_width": null,
            "min_height": null,
            "min_width": null,
            "object_fit": null,
            "object_position": null,
            "order": null,
            "overflow": null,
            "overflow_x": null,
            "overflow_y": null,
            "padding": null,
            "right": null,
            "top": null,
            "visibility": null,
            "width": null
          }
        },
        "2392c5defca745d887fdc4655f61d73a": {
          "model_module": "@jupyter-widgets/controls",
          "model_name": "ProgressStyleModel",
          "model_module_version": "1.5.0",
          "state": {
            "_model_module": "@jupyter-widgets/controls",
            "_model_module_version": "1.5.0",
            "_model_name": "ProgressStyleModel",
            "_view_count": null,
            "_view_module": "@jupyter-widgets/base",
            "_view_module_version": "1.2.0",
            "_view_name": "StyleView",
            "bar_color": null,
            "description_width": ""
          }
        },
        "c5ccae0ab80f4dfb8670ad2161d69a8a": {
          "model_module": "@jupyter-widgets/base",
          "model_name": "LayoutModel",
          "model_module_version": "1.2.0",
          "state": {
            "_model_module": "@jupyter-widgets/base",
            "_model_module_version": "1.2.0",
            "_model_name": "LayoutModel",
            "_view_count": null,
            "_view_module": "@jupyter-widgets/base",
            "_view_module_version": "1.2.0",
            "_view_name": "LayoutView",
            "align_content": null,
            "align_items": null,
            "align_self": null,
            "border": null,
            "bottom": null,
            "display": null,
            "flex": null,
            "flex_flow": null,
            "grid_area": null,
            "grid_auto_columns": null,
            "grid_auto_flow": null,
            "grid_auto_rows": null,
            "grid_column": null,
            "grid_gap": null,
            "grid_row": null,
            "grid_template_areas": null,
            "grid_template_columns": null,
            "grid_template_rows": null,
            "height": null,
            "justify_content": null,
            "justify_items": null,
            "left": null,
            "margin": null,
            "max_height": null,
            "max_width": null,
            "min_height": null,
            "min_width": null,
            "object_fit": null,
            "object_position": null,
            "order": null,
            "overflow": null,
            "overflow_x": null,
            "overflow_y": null,
            "padding": null,
            "right": null,
            "top": null,
            "visibility": null,
            "width": null
          }
        },
        "58cfd37a2e0049a287693db0e9be5d73": {
          "model_module": "@jupyter-widgets/controls",
          "model_name": "DescriptionStyleModel",
          "model_module_version": "1.5.0",
          "state": {
            "_model_module": "@jupyter-widgets/controls",
            "_model_module_version": "1.5.0",
            "_model_name": "DescriptionStyleModel",
            "_view_count": null,
            "_view_module": "@jupyter-widgets/base",
            "_view_module_version": "1.2.0",
            "_view_name": "StyleView",
            "description_width": ""
          }
        }
      }
    }
  },
  "cells": [
    {
      "cell_type": "code",
      "source": [
        "!pip install medmnist"
      ],
      "metadata": {
        "id": "sGp77rgYQQnt"
      },
      "execution_count": null,
      "outputs": []
    },
    {
      "cell_type": "code",
      "source": [
        "from tqdm import tqdm\n",
        "import numpy as np\n",
        "import pandas as pd\n",
        "import torch\n",
        "import torch.nn as nn\n",
        "import torch.optim as optim\n",
        "import torch.utils.data as data\n",
        "import torchvision.transforms as transforms\n",
        "import torch.nn.functional as F\n",
        "\n",
        "\n",
        "import medmnist\n",
        "from medmnist import INFO, Evaluator"
      ],
      "metadata": {
        "id": "SJRIP6oaTU3L"
      },
      "execution_count": null,
      "outputs": []
    },
    {
      "cell_type": "code",
      "source": [
        "from google.colab import drive\n",
        "drive.mount('/content/drive')"
      ],
      "metadata": {
        "id": "ul_wIRo8PJUL"
      },
      "execution_count": null,
      "outputs": []
    },
    {
      "cell_type": "markdown",
      "source": [
        "This is 1. notebook for OCTMNIST Dataset (1 canal)<br>\n",
        "4 clases <br>train: 97477<br>val: 10832<br>test: 1000\n"
      ],
      "metadata": {
        "id": "SdRP98O3EhNs"
      }
    },
    {
      "cell_type": "code",
      "source": [
        "#selecting device\n",
        "device = \"cuda\" if torch.cuda.is_available() else \"cpu\"\n",
        "device"
      ],
      "metadata": {
        "id": "fKqZhrxLNvDc"
      },
      "execution_count": null,
      "outputs": []
    },
    {
      "cell_type": "code",
      "source": [
        "print(f\"MedMNIST v{medmnist.__version__} @ {medmnist.HOMEPAGE}\")"
      ],
      "metadata": {
        "colab": {
          "base_uri": "https://localhost:8080/"
        },
        "id": "nIMYeUI3TXiv",
        "outputId": "b4fe0ca1-be92-43ac-88d6-32bc977e519c"
      },
      "execution_count": null,
      "outputs": [
        {
          "output_type": "stream",
          "name": "stdout",
          "text": [
            "MedMNIST v2.1.0 @ https://github.com/MedMNIST/MedMNIST/\n"
          ]
        }
      ]
    },
    {
      "cell_type": "markdown",
      "source": [
        "#Loading dataset"
      ],
      "metadata": {
        "id": "GVaKBTclR0hh"
      }
    },
    {
      "cell_type": "code",
      "source": [
        "data_flag = 'octmnist'\n",
        "download = True\n",
        "\n",
        "NUM_EPOCHS = 10\n",
        "BATCH_SIZE = 100\n",
        "lr = 0.001\n",
        "\n",
        "info = INFO[data_flag]\n",
        "task = info['task']\n",
        "n_channels = info['n_channels']\n",
        "n_classes = len(info['label'])\n",
        "\n",
        "DataClass = getattr(medmnist, info['python_class'])"
      ],
      "metadata": {
        "id": "8F_0vepxTZr2"
      },
      "execution_count": null,
      "outputs": []
    },
    {
      "cell_type": "code",
      "source": [
        "# preprocessing\n",
        "data_transform = transforms.Compose([\n",
        "    transforms.ToTensor(),\n",
        "    transforms.Normalize(mean=[.5], std=[.5],),\n",
        "    # transforms.Grayscale(num_output_channels=1)\n",
        "])\n",
        "\n",
        "# load the data\n",
        "train_dataset = DataClass(split='train', transform=data_transform, download=download)\n",
        "val_dataset = DataClass(split='val', download=download)\n",
        "test_dataset = DataClass(split='test', transform=data_transform, download=download)\n",
        "\n",
        "# encapsulate data into dataloader form\n",
        "train_loader = data.DataLoader(dataset=train_dataset, batch_size=BATCH_SIZE, shuffle=True)\n",
        "val_loader_at_eval = data.DataLoader(dataset=val_dataset, batch_size=2*BATCH_SIZE, shuffle=False)\n",
        "test_loader = data.DataLoader(dataset=test_dataset, batch_size=2*BATCH_SIZE, shuffle=False)"
      ],
      "metadata": {
        "id": "UjnBKk5UUKYT",
        "colab": {
          "base_uri": "https://localhost:8080/",
          "height": 151,
          "referenced_widgets": [
            "2ab93b38cafd4d01aebda8dd2219a769",
            "55e2f7851efe4283853372658adbcf17",
            "b002f351b4f84d129c165ec903ba1fde",
            "3f9bf611db654ed9aa12e94026d491e5",
            "88a3b29dcb8f4aebbc2f92b972c12026",
            "e6f94c9e68c7463d8d35510f825a09d1",
            "d2d4efafb98e40869afeb39e7ed1df7d",
            "c6a0d0aea60349478ee2752e41eb6df7",
            "2392c5defca745d887fdc4655f61d73a",
            "c5ccae0ab80f4dfb8670ad2161d69a8a",
            "58cfd37a2e0049a287693db0e9be5d73"
          ]
        },
        "outputId": "8738a413-64b5-4425-c6fd-d550da5ccd70"
      },
      "execution_count": null,
      "outputs": [
        {
          "output_type": "stream",
          "name": "stdout",
          "text": [
            "Downloading https://zenodo.org/record/6496656/files/octmnist.npz?download=1 to /root/.medmnist/octmnist.npz\n"
          ]
        },
        {
          "output_type": "display_data",
          "data": {
            "text/plain": [
              "  0%|          | 0/54938180 [00:00<?, ?it/s]"
            ],
            "application/vnd.jupyter.widget-view+json": {
              "version_major": 2,
              "version_minor": 0,
              "model_id": "2ab93b38cafd4d01aebda8dd2219a769"
            }
          },
          "metadata": {}
        },
        {
          "output_type": "stream",
          "name": "stdout",
          "text": [
            "Using downloaded and verified file: /root/.medmnist/octmnist.npz\n",
            "Using downloaded and verified file: /root/.medmnist/octmnist.npz\n"
          ]
        }
      ]
    },
    {
      "cell_type": "markdown",
      "source": [
        "#Info + samples"
      ],
      "metadata": {
        "id": "RYVeSplzSCJ5"
      }
    },
    {
      "cell_type": "code",
      "source": [
        "info"
      ],
      "metadata": {
        "colab": {
          "base_uri": "https://localhost:8080/"
        },
        "id": "ep7GoW3XTmJM",
        "outputId": "1ebbcd55-5715-4189-f94b-ac0f0192bbc7"
      },
      "execution_count": null,
      "outputs": [
        {
          "output_type": "execute_result",
          "data": {
            "text/plain": [
              "{'python_class': 'OCTMNIST',\n",
              " 'description': 'The OCTMNIST is based on a prior dataset of 109,309 valid optical coherence tomography (OCT) images for retinal diseases. The dataset is comprised of 4 diagnosis categories, leading to a multi-class classification task. We split the source training set with a ratio of 9:1 into training and validation set, and use its source validation set as the test set. The source images are gray-scale, and their sizes are (384−1,536)×(277−512). We center-crop the images and resize them into 1×28×28.',\n",
              " 'url': 'https://zenodo.org/record/6496656/files/octmnist.npz?download=1',\n",
              " 'MD5': 'c68d92d5b585d8d81f7112f81e2d0842',\n",
              " 'task': 'multi-class',\n",
              " 'label': {'0': 'choroidal neovascularization',\n",
              "  '1': 'diabetic macular edema',\n",
              "  '2': 'drusen',\n",
              "  '3': 'normal'},\n",
              " 'n_channels': 1,\n",
              " 'n_samples': {'train': 97477, 'val': 10832, 'test': 1000},\n",
              " 'license': 'CC BY 4.0'}"
            ]
          },
          "metadata": {},
          "execution_count": 14
        }
      ]
    },
    {
      "cell_type": "code",
      "source": [
        "label_array_train = []\n",
        "for (data, labels) in train_dataset:\n",
        "  label_array_train.append(labels)\n",
        "index_values = np.arange(1, len(label_array_train)+1)\n",
        "column_values = ['class']\n",
        "  \n",
        "# creating the train dataframe\n",
        "df_train = pd.DataFrame(data = label_array_train, \n",
        "                  index = index_values, \n",
        "                  columns = column_values)\n",
        "\n",
        "label_array_val = []\n",
        "for (data, labels) in val_dataset:\n",
        "  label_array_val.append(labels)\n",
        "index_values = np.arange(1, len(label_array_val)+1)\n",
        "column_values = ['class']\n",
        "  \n",
        "# creating the val dataframe\n",
        "df_val = pd.DataFrame(data = label_array_val, \n",
        "                  index = index_values, \n",
        "                  columns = column_values)\n",
        "\n",
        "label_array_test = []\n",
        "for (data, labels) in test_dataset:\n",
        "  label_array_test.append(labels)\n",
        "index_values = np.arange(1, len(label_array_test)+1)\n",
        "column_values = ['class']\n",
        "  \n",
        "# creating the test dataframe\n",
        "df_test = pd.DataFrame(data = label_array_test, \n",
        "                  index = index_values, \n",
        "                  columns = column_values)"
      ],
      "metadata": {
        "id": "CUj45z0xO1cB"
      },
      "execution_count": null,
      "outputs": []
    },
    {
      "cell_type": "code",
      "source": [
        "train_size_arange = np.arange(1, len(label_array_train)+1)\n",
        "train_1 = sum(df_train[\"class\"]==1)\n",
        "train_0 = sum(df_train[\"class\"]==0)\n",
        "train_2 = sum(df_train[\"class\"]==2)\n",
        "train_3 = sum(df_train[\"class\"]==3)\n",
        "\n",
        "val_size_arange = np.arange(1, len(label_array_val)+1)\n",
        "val_1 = sum(df_val[\"class\"]==1)\n",
        "val_0 = sum(df_val[\"class\"]==0)\n",
        "val_2 = sum(df_val[\"class\"]==2)\n",
        "val_3 = sum(df_val[\"class\"]==3)\n",
        "\n",
        "test_size_arange = np.arange(1, len(label_array_test)+1)\n",
        "test_1 = sum(df_test[\"class\"]==1)\n",
        "test_0 = sum(df_test[\"class\"]==0)\n",
        "test_2 = sum(df_test[\"class\"]==2)\n",
        "test_3 = sum(df_test[\"class\"]==3)"
      ],
      "metadata": {
        "id": "FrBGRunJO9uS"
      },
      "execution_count": null,
      "outputs": []
    },
    {
      "cell_type": "code",
      "source": [
        "import plotly.graph_objects as go\n",
        "sets=['Train Dataset', 'Val Dataset', 'Test Dataset']\n",
        "fig = go.Figure(data=[\n",
        "    go.Bar(name='choroidal neovascularization', x=sets, y=[train_0, val_0, test_0]),\n",
        "    go.Bar(name='diabetic macular edema', x=sets, y=[train_1, val_1, test_1]),\n",
        "    go.Bar(name='drusen', x=sets, y=[train_2, val_2, test_2]),\n",
        "    go.Bar(name='normal', x=sets, y=[train_3, val_3, test_3])\n",
        "    ]\n",
        "    )\n",
        "fig.update_layout(title=\"Quantity of samples over sets\", width=600, height=300,\n",
        "                  margin=dict(l=00, r=20, b=30, t=40, pad=10),\n",
        "                  legend=dict(yanchor=\"top\",xanchor=\"right\"))\n",
        "\n",
        "fig.update_yaxes(title_text='Quantity')\n",
        "fig.show()"
      ],
      "metadata": {
        "colab": {
          "base_uri": "https://localhost:8080/",
          "height": 317
        },
        "id": "x_f2kyyrPwv8",
        "outputId": "70bbe368-b312-454d-8d08-9ea40982bdb1"
      },
      "execution_count": null,
      "outputs": [
        {
          "output_type": "display_data",
          "data": {
            "text/html": [
              "<html>\n",
              "<head><meta charset=\"utf-8\" /></head>\n",
              "<body>\n",
              "    <div>            <script src=\"https://cdnjs.cloudflare.com/ajax/libs/mathjax/2.7.5/MathJax.js?config=TeX-AMS-MML_SVG\"></script><script type=\"text/javascript\">if (window.MathJax) {MathJax.Hub.Config({SVG: {font: \"STIX-Web\"}});}</script>                <script type=\"text/javascript\">window.PlotlyConfig = {MathJaxConfig: 'local'};</script>\n",
              "        <script src=\"https://cdn.plot.ly/plotly-2.8.3.min.js\"></script>                <div id=\"eaf28707-b568-4fc8-aa27-0df32872e31a\" class=\"plotly-graph-div\" style=\"height:300px; width:600px;\"></div>            <script type=\"text/javascript\">                                    window.PLOTLYENV=window.PLOTLYENV || {};                                    if (document.getElementById(\"eaf28707-b568-4fc8-aa27-0df32872e31a\")) {                    Plotly.newPlot(                        \"eaf28707-b568-4fc8-aa27-0df32872e31a\",                        [{\"name\":\"choroidal neovascularization\",\"x\":[\"Train Dataset\",\"Val Dataset\",\"Test Dataset\"],\"y\":[33484,3721,250],\"type\":\"bar\"},{\"name\":\"diabetic macular edema\",\"x\":[\"Train Dataset\",\"Val Dataset\",\"Test Dataset\"],\"y\":[10213,1135,250],\"type\":\"bar\"},{\"name\":\"drusen\",\"x\":[\"Train Dataset\",\"Val Dataset\",\"Test Dataset\"],\"y\":[7754,862,250],\"type\":\"bar\"},{\"name\":\"normal\",\"x\":[\"Train Dataset\",\"Val Dataset\",\"Test Dataset\"],\"y\":[46026,5114,250],\"type\":\"bar\"}],                        {\"template\":{\"data\":{\"bar\":[{\"error_x\":{\"color\":\"#2a3f5f\"},\"error_y\":{\"color\":\"#2a3f5f\"},\"marker\":{\"line\":{\"color\":\"#E5ECF6\",\"width\":0.5},\"pattern\":{\"fillmode\":\"overlay\",\"size\":10,\"solidity\":0.2}},\"type\":\"bar\"}],\"barpolar\":[{\"marker\":{\"line\":{\"color\":\"#E5ECF6\",\"width\":0.5},\"pattern\":{\"fillmode\":\"overlay\",\"size\":10,\"solidity\":0.2}},\"type\":\"barpolar\"}],\"carpet\":[{\"aaxis\":{\"endlinecolor\":\"#2a3f5f\",\"gridcolor\":\"white\",\"linecolor\":\"white\",\"minorgridcolor\":\"white\",\"startlinecolor\":\"#2a3f5f\"},\"baxis\":{\"endlinecolor\":\"#2a3f5f\",\"gridcolor\":\"white\",\"linecolor\":\"white\",\"minorgridcolor\":\"white\",\"startlinecolor\":\"#2a3f5f\"},\"type\":\"carpet\"}],\"choropleth\":[{\"colorbar\":{\"outlinewidth\":0,\"ticks\":\"\"},\"type\":\"choropleth\"}],\"contour\":[{\"colorbar\":{\"outlinewidth\":0,\"ticks\":\"\"},\"colorscale\":[[0.0,\"#0d0887\"],[0.1111111111111111,\"#46039f\"],[0.2222222222222222,\"#7201a8\"],[0.3333333333333333,\"#9c179e\"],[0.4444444444444444,\"#bd3786\"],[0.5555555555555556,\"#d8576b\"],[0.6666666666666666,\"#ed7953\"],[0.7777777777777778,\"#fb9f3a\"],[0.8888888888888888,\"#fdca26\"],[1.0,\"#f0f921\"]],\"type\":\"contour\"}],\"contourcarpet\":[{\"colorbar\":{\"outlinewidth\":0,\"ticks\":\"\"},\"type\":\"contourcarpet\"}],\"heatmap\":[{\"colorbar\":{\"outlinewidth\":0,\"ticks\":\"\"},\"colorscale\":[[0.0,\"#0d0887\"],[0.1111111111111111,\"#46039f\"],[0.2222222222222222,\"#7201a8\"],[0.3333333333333333,\"#9c179e\"],[0.4444444444444444,\"#bd3786\"],[0.5555555555555556,\"#d8576b\"],[0.6666666666666666,\"#ed7953\"],[0.7777777777777778,\"#fb9f3a\"],[0.8888888888888888,\"#fdca26\"],[1.0,\"#f0f921\"]],\"type\":\"heatmap\"}],\"heatmapgl\":[{\"colorbar\":{\"outlinewidth\":0,\"ticks\":\"\"},\"colorscale\":[[0.0,\"#0d0887\"],[0.1111111111111111,\"#46039f\"],[0.2222222222222222,\"#7201a8\"],[0.3333333333333333,\"#9c179e\"],[0.4444444444444444,\"#bd3786\"],[0.5555555555555556,\"#d8576b\"],[0.6666666666666666,\"#ed7953\"],[0.7777777777777778,\"#fb9f3a\"],[0.8888888888888888,\"#fdca26\"],[1.0,\"#f0f921\"]],\"type\":\"heatmapgl\"}],\"histogram\":[{\"marker\":{\"pattern\":{\"fillmode\":\"overlay\",\"size\":10,\"solidity\":0.2}},\"type\":\"histogram\"}],\"histogram2d\":[{\"colorbar\":{\"outlinewidth\":0,\"ticks\":\"\"},\"colorscale\":[[0.0,\"#0d0887\"],[0.1111111111111111,\"#46039f\"],[0.2222222222222222,\"#7201a8\"],[0.3333333333333333,\"#9c179e\"],[0.4444444444444444,\"#bd3786\"],[0.5555555555555556,\"#d8576b\"],[0.6666666666666666,\"#ed7953\"],[0.7777777777777778,\"#fb9f3a\"],[0.8888888888888888,\"#fdca26\"],[1.0,\"#f0f921\"]],\"type\":\"histogram2d\"}],\"histogram2dcontour\":[{\"colorbar\":{\"outlinewidth\":0,\"ticks\":\"\"},\"colorscale\":[[0.0,\"#0d0887\"],[0.1111111111111111,\"#46039f\"],[0.2222222222222222,\"#7201a8\"],[0.3333333333333333,\"#9c179e\"],[0.4444444444444444,\"#bd3786\"],[0.5555555555555556,\"#d8576b\"],[0.6666666666666666,\"#ed7953\"],[0.7777777777777778,\"#fb9f3a\"],[0.8888888888888888,\"#fdca26\"],[1.0,\"#f0f921\"]],\"type\":\"histogram2dcontour\"}],\"mesh3d\":[{\"colorbar\":{\"outlinewidth\":0,\"ticks\":\"\"},\"type\":\"mesh3d\"}],\"parcoords\":[{\"line\":{\"colorbar\":{\"outlinewidth\":0,\"ticks\":\"\"}},\"type\":\"parcoords\"}],\"pie\":[{\"automargin\":true,\"type\":\"pie\"}],\"scatter\":[{\"marker\":{\"colorbar\":{\"outlinewidth\":0,\"ticks\":\"\"}},\"type\":\"scatter\"}],\"scatter3d\":[{\"line\":{\"colorbar\":{\"outlinewidth\":0,\"ticks\":\"\"}},\"marker\":{\"colorbar\":{\"outlinewidth\":0,\"ticks\":\"\"}},\"type\":\"scatter3d\"}],\"scattercarpet\":[{\"marker\":{\"colorbar\":{\"outlinewidth\":0,\"ticks\":\"\"}},\"type\":\"scattercarpet\"}],\"scattergeo\":[{\"marker\":{\"colorbar\":{\"outlinewidth\":0,\"ticks\":\"\"}},\"type\":\"scattergeo\"}],\"scattergl\":[{\"marker\":{\"colorbar\":{\"outlinewidth\":0,\"ticks\":\"\"}},\"type\":\"scattergl\"}],\"scattermapbox\":[{\"marker\":{\"colorbar\":{\"outlinewidth\":0,\"ticks\":\"\"}},\"type\":\"scattermapbox\"}],\"scatterpolar\":[{\"marker\":{\"colorbar\":{\"outlinewidth\":0,\"ticks\":\"\"}},\"type\":\"scatterpolar\"}],\"scatterpolargl\":[{\"marker\":{\"colorbar\":{\"outlinewidth\":0,\"ticks\":\"\"}},\"type\":\"scatterpolargl\"}],\"scatterternary\":[{\"marker\":{\"colorbar\":{\"outlinewidth\":0,\"ticks\":\"\"}},\"type\":\"scatterternary\"}],\"surface\":[{\"colorbar\":{\"outlinewidth\":0,\"ticks\":\"\"},\"colorscale\":[[0.0,\"#0d0887\"],[0.1111111111111111,\"#46039f\"],[0.2222222222222222,\"#7201a8\"],[0.3333333333333333,\"#9c179e\"],[0.4444444444444444,\"#bd3786\"],[0.5555555555555556,\"#d8576b\"],[0.6666666666666666,\"#ed7953\"],[0.7777777777777778,\"#fb9f3a\"],[0.8888888888888888,\"#fdca26\"],[1.0,\"#f0f921\"]],\"type\":\"surface\"}],\"table\":[{\"cells\":{\"fill\":{\"color\":\"#EBF0F8\"},\"line\":{\"color\":\"white\"}},\"header\":{\"fill\":{\"color\":\"#C8D4E3\"},\"line\":{\"color\":\"white\"}},\"type\":\"table\"}]},\"layout\":{\"annotationdefaults\":{\"arrowcolor\":\"#2a3f5f\",\"arrowhead\":0,\"arrowwidth\":1},\"autotypenumbers\":\"strict\",\"coloraxis\":{\"colorbar\":{\"outlinewidth\":0,\"ticks\":\"\"}},\"colorscale\":{\"diverging\":[[0,\"#8e0152\"],[0.1,\"#c51b7d\"],[0.2,\"#de77ae\"],[0.3,\"#f1b6da\"],[0.4,\"#fde0ef\"],[0.5,\"#f7f7f7\"],[0.6,\"#e6f5d0\"],[0.7,\"#b8e186\"],[0.8,\"#7fbc41\"],[0.9,\"#4d9221\"],[1,\"#276419\"]],\"sequential\":[[0.0,\"#0d0887\"],[0.1111111111111111,\"#46039f\"],[0.2222222222222222,\"#7201a8\"],[0.3333333333333333,\"#9c179e\"],[0.4444444444444444,\"#bd3786\"],[0.5555555555555556,\"#d8576b\"],[0.6666666666666666,\"#ed7953\"],[0.7777777777777778,\"#fb9f3a\"],[0.8888888888888888,\"#fdca26\"],[1.0,\"#f0f921\"]],\"sequentialminus\":[[0.0,\"#0d0887\"],[0.1111111111111111,\"#46039f\"],[0.2222222222222222,\"#7201a8\"],[0.3333333333333333,\"#9c179e\"],[0.4444444444444444,\"#bd3786\"],[0.5555555555555556,\"#d8576b\"],[0.6666666666666666,\"#ed7953\"],[0.7777777777777778,\"#fb9f3a\"],[0.8888888888888888,\"#fdca26\"],[1.0,\"#f0f921\"]]},\"colorway\":[\"#636efa\",\"#EF553B\",\"#00cc96\",\"#ab63fa\",\"#FFA15A\",\"#19d3f3\",\"#FF6692\",\"#B6E880\",\"#FF97FF\",\"#FECB52\"],\"font\":{\"color\":\"#2a3f5f\"},\"geo\":{\"bgcolor\":\"white\",\"lakecolor\":\"white\",\"landcolor\":\"#E5ECF6\",\"showlakes\":true,\"showland\":true,\"subunitcolor\":\"white\"},\"hoverlabel\":{\"align\":\"left\"},\"hovermode\":\"closest\",\"mapbox\":{\"style\":\"light\"},\"paper_bgcolor\":\"white\",\"plot_bgcolor\":\"#E5ECF6\",\"polar\":{\"angularaxis\":{\"gridcolor\":\"white\",\"linecolor\":\"white\",\"ticks\":\"\"},\"bgcolor\":\"#E5ECF6\",\"radialaxis\":{\"gridcolor\":\"white\",\"linecolor\":\"white\",\"ticks\":\"\"}},\"scene\":{\"xaxis\":{\"backgroundcolor\":\"#E5ECF6\",\"gridcolor\":\"white\",\"gridwidth\":2,\"linecolor\":\"white\",\"showbackground\":true,\"ticks\":\"\",\"zerolinecolor\":\"white\"},\"yaxis\":{\"backgroundcolor\":\"#E5ECF6\",\"gridcolor\":\"white\",\"gridwidth\":2,\"linecolor\":\"white\",\"showbackground\":true,\"ticks\":\"\",\"zerolinecolor\":\"white\"},\"zaxis\":{\"backgroundcolor\":\"#E5ECF6\",\"gridcolor\":\"white\",\"gridwidth\":2,\"linecolor\":\"white\",\"showbackground\":true,\"ticks\":\"\",\"zerolinecolor\":\"white\"}},\"shapedefaults\":{\"line\":{\"color\":\"#2a3f5f\"}},\"ternary\":{\"aaxis\":{\"gridcolor\":\"white\",\"linecolor\":\"white\",\"ticks\":\"\"},\"baxis\":{\"gridcolor\":\"white\",\"linecolor\":\"white\",\"ticks\":\"\"},\"bgcolor\":\"#E5ECF6\",\"caxis\":{\"gridcolor\":\"white\",\"linecolor\":\"white\",\"ticks\":\"\"}},\"title\":{\"x\":0.05},\"xaxis\":{\"automargin\":true,\"gridcolor\":\"white\",\"linecolor\":\"white\",\"ticks\":\"\",\"title\":{\"standoff\":15},\"zerolinecolor\":\"white\",\"zerolinewidth\":2},\"yaxis\":{\"automargin\":true,\"gridcolor\":\"white\",\"linecolor\":\"white\",\"ticks\":\"\",\"title\":{\"standoff\":15},\"zerolinecolor\":\"white\",\"zerolinewidth\":2}}},\"margin\":{\"l\":0,\"r\":20,\"b\":30,\"t\":40,\"pad\":10},\"legend\":{\"yanchor\":\"top\",\"xanchor\":\"right\"},\"title\":{\"text\":\"Quantity of samples over sets\"},\"width\":600,\"height\":300,\"yaxis\":{\"title\":{\"text\":\"Quantity\"}}},                        {\"responsive\": true}                    ).then(function(){\n",
              "                            \n",
              "var gd = document.getElementById('eaf28707-b568-4fc8-aa27-0df32872e31a');\n",
              "var x = new MutationObserver(function (mutations, observer) {{\n",
              "        var display = window.getComputedStyle(gd).display;\n",
              "        if (!display || display === 'none') {{\n",
              "            console.log([gd, 'removed!']);\n",
              "            Plotly.purge(gd);\n",
              "            observer.disconnect();\n",
              "        }}\n",
              "}});\n",
              "\n",
              "// Listen for the removal of the full notebook cells\n",
              "var notebookContainer = gd.closest('#notebook-container');\n",
              "if (notebookContainer) {{\n",
              "    x.observe(notebookContainer, {childList: true});\n",
              "}}\n",
              "\n",
              "// Listen for the clearing of the current output cell\n",
              "var outputEl = gd.closest('.output');\n",
              "if (outputEl) {{\n",
              "    x.observe(outputEl, {childList: true});\n",
              "}}\n",
              "\n",
              "                        })                };                            </script>        </div>\n",
              "</body>\n",
              "</html>"
            ]
          },
          "metadata": {}
        }
      ]
    },
    {
      "cell_type": "code",
      "source": [
        "import matplotlib.pyplot as plt\n",
        "import pandas as pd\n",
        "tr_l = np.array(train_dataset)\n",
        "tr_l.shape\n",
        "data_frame = pd.DataFrame()\n",
        "img = []\n",
        "for inputs, targets in tqdm(train_dataset):\n",
        "  img.append(inputs)\n",
        "  \n",
        "sample_pics = [img]\n",
        "pic1 = img[0].reshape(28,-1)\n",
        "pic2 = img[1].reshape(28,-1)\n",
        "pic3 = img[2].reshape(28,-1)\n",
        "plt.imshow(np.hstack((pic1,pic2, pic3)), cmap=\"inferno_r\")"
      ],
      "metadata": {
        "colab": {
          "base_uri": "https://localhost:8080/",
          "height": 361
        },
        "id": "2MQGiTjrULHF",
        "outputId": "85b5f672-0dec-413d-d7c8-6c991a78c5c9"
      },
      "execution_count": null,
      "outputs": [
        {
          "output_type": "stream",
          "name": "stderr",
          "text": [
            "/usr/local/lib/python3.7/dist-packages/ipykernel_launcher.py:3: FutureWarning:\n",
            "\n",
            "The input object of type 'Tensor' is an array-like implementing one of the corresponding protocols (`__array__`, `__array_interface__` or `__array_struct__`); but not a sequence (or 0-D). In the future, this object will be coerced as if it was first converted using `np.array(obj)`. To retain the old behaviour, you have to either modify the type 'Tensor', or assign to an empty array created with `np.empty(correct_shape, dtype=object)`.\n",
            "\n",
            "/usr/local/lib/python3.7/dist-packages/ipykernel_launcher.py:3: VisibleDeprecationWarning:\n",
            "\n",
            "Creating an ndarray from ragged nested sequences (which is a list-or-tuple of lists-or-tuples-or ndarrays with different lengths or shapes) is deprecated. If you meant to do this, you must specify 'dtype=object' when creating the ndarray.\n",
            "\n",
            "100%|██████████| 97477/97477 [00:20<00:00, 4657.57it/s]\n"
          ]
        },
        {
          "output_type": "execute_result",
          "data": {
            "text/plain": [
              "<matplotlib.image.AxesImage at 0x7f994c8565d0>"
            ]
          },
          "metadata": {},
          "execution_count": 13
        },
        {
          "output_type": "display_data",
          "data": {
            "text/plain": [
              "<Figure size 432x288 with 1 Axes>"
            ],
            "image/png": "[encoded data removed]"
          },
          "metadata": {
            "needs_background": "light"
          }
        }
      ]
    },
    {
      "cell_type": "code",
      "source": [
        "#or using montage\n",
        "train_dataset.montage(length=10)"
      ],
      "metadata": {
        "colab": {
          "base_uri": "https://localhost:8080/",
          "height": 297
        },
        "id": "AMj4FSRrTwxY",
        "outputId": "f39038db-4056-46f9-9154-cb9c66dd119e"
      },
      "execution_count": null,
      "outputs": [
        {
          "output_type": "execute_result",
          "data": {
            "text/plain": [
              "<PIL.Image.Image image mode=L size=280x280 at 0x7F994C7437D0>"
            ],
            "image/png": "[encoded data removed]"
          },
          "metadata": {},
          "execution_count": 14
        }
      ]
    },
    {
      "cell_type": "markdown",
      "source": [
        "**1) Real OCT of iris**\n",
        "\n",
        "<img src=\"https://drive.google.com/uc?export=view&id=1wdjFPgPLHAHHH4AcRc4tv4opC5bBtuIK\" width=450></img>"
      ],
      "metadata": {
        "id": "eVt4ErtFQObd"
      }
    },
    {
      "cell_type": "markdown",
      "source": [
        "#Training and testing"
      ],
      "metadata": {
        "id": "LerhKcj0bDZ9"
      }
    },
    {
      "cell_type": "code",
      "source": [
        "# model class for pneumonia prediction\n",
        "class ConvolutionalNetwork(nn.Module):\n",
        "    def __init__(self):\n",
        "        super().__init__()\n",
        "        self.conv1 = nn.Conv2d(1, 16, 3, 1)\n",
        "        self.conv1_bn=nn.BatchNorm2d(16)\n",
        "\n",
        "        self.conv2 = nn.Conv2d(16, 32, 3, 1)\n",
        "        self.conv2_bn=nn.BatchNorm2d(32)\n",
        "\n",
        "        self.conv3 = nn.Conv2d(32, 64, 3, 1)\n",
        "        self.conv3_bn=nn.BatchNorm2d(64)\n",
        "\n",
        "        self.conv4 = nn.Conv2d(64, 128, 3, 1)\n",
        "        self.conv4_bn=nn.BatchNorm2d(128)\n",
        "\n",
        "        # self.conv5 = nn.Conv2d(128, 180, 3, 1)\n",
        "        # self.conv5_bn=nn.BatchNorm2d(180)\n",
        "\n",
        "        self.fc1 = nn.Linear(7*7*128, 800) #((((28-2)/2)-2)/2) = 5,..\n",
        "        self.fc1_bn=nn.BatchNorm1d(800)\n",
        "\n",
        "        self.fc2 = nn.Linear(800, 300)\n",
        "        self.fc2_bn=nn.BatchNorm1d(300)\n",
        "\n",
        "        self.fc3 = nn.Linear(300, 60)\n",
        "        self.fc3_bn=nn.BatchNorm1d(60)\n",
        "\n",
        "        self.fc4 = nn.Linear(60, 2)\n",
        "\n",
        "\n",
        "    def forward(self, X):\n",
        "        X = self.conv1(X)\n",
        "        X = F.relu(self.conv1_bn(X))  #1\n",
        "\n",
        "        X = F.max_pool2d(X, 2, 2)\n",
        "\n",
        "        X = self.conv2(X)\n",
        "        X = F.relu(self.conv2_bn(X))\n",
        "\n",
        "        X = self.conv3(X)\n",
        "        X = F.relu(self.conv3_bn(X))  #3\n",
        "\n",
        "        X = self.conv4(X)\n",
        "        X = F.relu(self.conv4_bn(X))  #4\n",
        "\n",
        "        # X = self.conv5(X)\n",
        "        # X = F.relu(self.conv5_bn(X))  #4\n",
        "\n",
        "        X = X.view(-1, 7*7*128)\n",
        "\n",
        "        X = self.fc1(X)\n",
        "        X = F.relu(self.fc1_bn(X))\n",
        "        X = self.fc2(X)\n",
        "        X = F.relu(self.fc2_bn(X))\n",
        "        X = self.fc3(X)\n",
        "        X = F.relu(self.fc3_bn(X))\n",
        "        X = self.fc4(X)\n",
        "        return F.sigmoid(X) #for binary class.\n",
        "        #softmax(X, dim=1)"
      ],
      "metadata": {
        "id": "H_m_r7RrJ8Me"
      },
      "execution_count": null,
      "outputs": []
    },
    {
      "cell_type": "code",
      "source": [
        "model = ConvolutionalNetwork().to(device)\n",
        "loss_function = nn.BCELoss() #for binary class.\n",
        "optimizer = torch.optim.Adam(model.parameters(), lr=0.001)\n",
        "model"
      ],
      "metadata": {
        "colab": {
          "base_uri": "https://localhost:8080/"
        },
        "id": "s9zmV0iTVPcr",
        "outputId": "7119df93-e432-4bda-ded1-1ca6a2da3c0e"
      },
      "execution_count": null,
      "outputs": [
        {
          "output_type": "execute_result",
          "data": {
            "text/plain": [
              "ConvolutionalNetwork(\n",
              "  (conv1): Conv2d(1, 16, kernel_size=(3, 3), stride=(1, 1))\n",
              "  (conv1_bn): BatchNorm2d(16, eps=1e-05, momentum=0.1, affine=True, track_running_stats=True)\n",
              "  (conv2): Conv2d(16, 32, kernel_size=(3, 3), stride=(1, 1))\n",
              "  (conv2_bn): BatchNorm2d(32, eps=1e-05, momentum=0.1, affine=True, track_running_stats=True)\n",
              "  (conv3): Conv2d(32, 64, kernel_size=(3, 3), stride=(1, 1))\n",
              "  (conv3_bn): BatchNorm2d(64, eps=1e-05, momentum=0.1, affine=True, track_running_stats=True)\n",
              "  (conv4): Conv2d(64, 128, kernel_size=(3, 3), stride=(1, 1))\n",
              "  (conv4_bn): BatchNorm2d(128, eps=1e-05, momentum=0.1, affine=True, track_running_stats=True)\n",
              "  (fc1): Linear(in_features=6272, out_features=800, bias=True)\n",
              "  (fc1_bn): BatchNorm1d(800, eps=1e-05, momentum=0.1, affine=True, track_running_stats=True)\n",
              "  (fc2): Linear(in_features=800, out_features=300, bias=True)\n",
              "  (fc2_bn): BatchNorm1d(300, eps=1e-05, momentum=0.1, affine=True, track_running_stats=True)\n",
              "  (fc3): Linear(in_features=300, out_features=60, bias=True)\n",
              "  (fc3_bn): BatchNorm1d(60, eps=1e-05, momentum=0.1, affine=True, track_running_stats=True)\n",
              "  (fc4): Linear(in_features=60, out_features=2, bias=True)\n",
              ")"
            ]
          },
          "metadata": {},
          "execution_count": 8
        }
      ]
    },
    {
      "cell_type": "code",
      "execution_count": null,
      "metadata": {
        "id": "m3W3H6W514wI"
      },
      "outputs": [],
      "source": [
        "def get_accuracy(model, test_loader):\n",
        "  correct = 0\n",
        "  total = 0\n",
        "  with torch.no_grad():\n",
        "      for (data, labels) in test_loader:\n",
        "          net_out = model(data) \n",
        "          predicted_labels = []\n",
        "          for row in net_out:\n",
        "            predicted_labels.append(torch.argmax(row))\n",
        "\n",
        "          for i, object in enumerate(predicted_labels):\n",
        "              if predicted_labels[i] == labels[i]:\n",
        "                correct += 1\n",
        "              total += 1\n",
        "  return correct/total"
      ]
    },
    {
      "cell_type": "code",
      "source": [
        "min_valid_loss = np.inf\n",
        "MODELPATHAGE = \"/content/drive/MyDrive/Colab Notebooks/Med_MNIST_inż/model_pneumonia.pth\"\n",
        "\n",
        "historical_train_loss = []\n",
        "historical_validation_loss = []\n",
        "epochs = []\n",
        "i = 0\n",
        "best_acc = 0\n",
        "\n",
        "for epoch in range(NUM_EPOCHS):\n",
        "  \n",
        "  train_loss = 0.0\n",
        "\n",
        "#  TRAINING\n",
        "  for (data, labels) in train_loader:\n",
        "    labels_1hot_t = []\n",
        "    optimizer.zero_grad()  #cleaning previous gradients\n",
        "    target = model(data)  #foreward pass\n",
        "    for l in labels:\n",
        "      labels_1hot_t.append(np.eye(2)[l])\n",
        "    loss = loss_function(target, torch.Tensor(labels_1hot_t))\n",
        "    loss.backward()  #backward pass\n",
        "    optimizer.step()  #updating weights\n",
        "    train_loss += loss.item()\n",
        "    histloss = loss\n",
        "    i+=1\n",
        "\n",
        "#  VALIDATION\n",
        "  validation_loss = 0.0\n",
        "  model.eval() \n",
        "\n",
        "  for (data, labels) in val_loader:\n",
        "    labels_1hot_v = []\n",
        "    target = model(data)  #foreward pass\n",
        "    for l in labels:\n",
        "      labels_1hot_v.append(np.eye(2)[l])\n",
        "    loss = loss_function(target, torch.Tensor(labels_1hot_v))\n",
        "    validation_loss += loss.item()\n",
        "    hisvloss = loss\n",
        "\n",
        "  historical_train_loss.append(histloss)\n",
        "  historical_validation_loss.append(hisvloss)\n",
        "\n",
        "#  TESTING\n",
        "  acc = get_accuracy(model, test_loader)\n",
        "  if acc > best_acc:\n",
        "    best_acc = acc\n",
        "    model.to(device)\n",
        "    torch.save(model.state_dict(), MODELPATHAGE)\n",
        "\n",
        "  epochs.append(epoch+1)\n",
        "\n",
        "  print(f'Epoch {epoch + 1}. len: {len(train_loader)}\\n\\\n",
        "  Training loss: {round(train_loss,4)}\\n\\\n",
        "  Validation loss: {round(validation_loss,4)}\\n\\\n",
        "  Accuracy: {round(acc*100,4)}%\\n')"
      ],
      "metadata": {
        "colab": {
          "base_uri": "https://localhost:8080/"
        },
        "id": "7RPEam1PIg93",
        "outputId": "9b4225d6-ab03-4910-bb03-7ca0cbcd1947"
      },
      "execution_count": null,
      "outputs": [
        {
          "output_type": "stream",
          "name": "stderr",
          "text": [
            "/usr/local/lib/python3.7/dist-packages/torch/nn/functional.py:1960: UserWarning: nn.functional.sigmoid is deprecated. Use torch.sigmoid instead.\n",
            "  warnings.warn(\"nn.functional.sigmoid is deprecated. Use torch.sigmoid instead.\")\n",
            "/usr/local/lib/python3.7/dist-packages/ipykernel_launcher.py:21: UserWarning: Creating a tensor from a list of numpy.ndarrays is extremely slow. Please consider converting the list to a single numpy.ndarray with numpy.array() before converting to a tensor. (Triggered internally at  ../torch/csrc/utils/tensor_new.cpp:201.)\n"
          ]
        },
        {
          "output_type": "stream",
          "name": "stdout",
          "text": [
            "Epoch 1. len: 53\n",
            "  Training loss: 14.4857\n",
            "  Validation loss: 1.2587\n",
            "  Accuracy: 79.9679%\n",
            "\n",
            "Epoch 2. len: 53\n",
            "  Training loss: 6.0148\n",
            "  Validation loss: 0.6525\n",
            "  Accuracy: 82.8526%\n",
            "\n",
            "Epoch 3. len: 53\n",
            "  Training loss: 4.9084\n",
            "  Validation loss: 0.4617\n",
            "  Accuracy: 83.0128%\n",
            "\n",
            "Epoch 4. len: 53\n",
            "  Training loss: 3.445\n",
            "  Validation loss: 0.6021\n",
            "  Accuracy: 82.5321%\n",
            "\n",
            "Epoch 5. len: 53\n",
            "  Training loss: 3.2678\n",
            "  Validation loss: 0.4605\n",
            "  Accuracy: 83.9744%\n",
            "\n",
            "Epoch 6. len: 53\n",
            "  Training loss: 2.9024\n",
            "  Validation loss: 0.4896\n",
            "  Accuracy: 86.2179%\n",
            "\n",
            "Epoch 7. len: 53\n",
            "  Training loss: 2.1593\n",
            "  Validation loss: 0.6101\n",
            "  Accuracy: 85.0962%\n",
            "\n",
            "Epoch 8. len: 53\n",
            "  Training loss: 1.3213\n",
            "  Validation loss: 0.7185\n",
            "  Accuracy: 89.4231%\n",
            "\n",
            "Epoch 9. len: 53\n",
            "  Training loss: 1.5519\n",
            "  Validation loss: 0.6425\n",
            "  Accuracy: 84.4551%\n",
            "\n"
          ]
        }
      ]
    }
  ]
}